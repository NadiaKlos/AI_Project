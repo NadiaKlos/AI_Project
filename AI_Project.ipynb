{
 "cells": [
  {
   "cell_type": "markdown",
   "metadata": {},
   "source": [
    "<div class='alert-block alert-info'>\n",
    "    <br>\n",
    "    <h1 align=\"center\"> AI Project \n",
    "    <h3 align=\"center\">Nadia Godje </h3>\n",
    "    <h3 align=\"center\">Stive </h3>\n",
    "    <\\br>\n",
    "</div>"
   ]
  },
  {
   "cell_type": "markdown",
   "metadata": {},
   "source": [
    "Pour commencer, nous devons charger les données des défauts à partir du fichier CSV \"defects.csv\" et définir les informations sur les biscuits"
   ]
  },
  {
   "cell_type": "code",
   "execution_count": 65,
   "metadata": {},
   "outputs": [
    {
     "name": "stdout",
     "output_type": "stream",
     "text": [
      "[{'num': 0, 'length': 4, 'value': 6, 'defauts': {'a': 4, 'b': 2, 'c': 3}}, {'num': 1, 'length': 8, 'value': 12, 'defauts': {'a': 5, 'b': 4, 'c': 4}}, {'num': 2, 'length': 2, 'value': 1, 'defauts': {'a': 1, 'b': 2, 'c': 1}}, {'num': 3, 'length': 5, 'value': 8, 'defauts': {'a': 2, 'b': 3, 'c': 2}}]\n",
      "500\n",
      "            x class\n",
      "0  355.449335     c\n",
      "1   92.496236     a\n",
      "2  141.876795     c\n",
      "3  431.833902     c\n",
      "4  435.028461     c\n"
     ]
    }
   ],
   "source": [
    "import pandas as pd\n",
    "\n",
    "# Chargement des données des défauts depuis le fichier CSV\n",
    "def load_defects_data():\n",
    "    defects_data = pd.read_csv('defects.csv')\n",
    "    return defects_data\n",
    "\n",
    "defects_data = load_defects_data()\n",
    "\n",
    "biscuits_info = [\n",
    "    {'num':0,'length': 4, 'value': 6, 'defauts': {'a': 4, 'b': 2, 'c': 3}},  # Biscuit 0\n",
    "    {'num':1,'length': 8, 'value': 12, 'defauts': {'a': 5, 'b': 4, 'c': 4}},  # Biscuit 1\n",
    "    {'num':2,'length': 2, 'value': 1, 'defauts': {'a': 1, 'b': 2, 'c': 1}},  # Biscuit 2\n",
    "    {'num':3,'length': 5, 'value': 8, 'defauts': {'a': 2, 'b': 3, 'c': 2}}   # Biscuit 3\n",
    "]\n",
    "\n",
    "roll_length = 500\n",
    "\n",
    "print(biscuits_info)\n",
    "print(roll_length)\n",
    "print(defects_data.head()) \n"
   ]
  },
  {
   "cell_type": "markdown",
   "metadata": {},
   "source": [
    "Ce code charge les informations sur les biscuits et la longueur du rouleau, puis charge les données des défauts à partir du fichier CSV. Il affiche également les lignes des données des défauts que les biscuits peuvent supporter"
   ]
  },
  {
   "cell_type": "markdown",
   "metadata": {},
   "source": [
    "Après avoir chargé les données des défauts et défini les informations sur les biscuits, nous pouvons commencer à formuler l'algorithme pour placer les biscuits sur le rouleau tout en respectant les contraintes spécifiées. "
   ]
  },
  {
   "cell_type": "markdown",
   "metadata": {},
   "source": [
    "**Greedy-search**\n",
    "\n",
    "La fonction find_valid_positions cherche pour chaque biscuit la meilleure position possible sur le rouleau en considérant les contraintes de chevauchement et les seuils de défauts. Elle itère sur chaque position possible pour un biscuit, vérifie s'il y a un chevauchement avec d'autres biscuits déjà placés et si le seuil de défauts est respecté.\n",
    "\n",
    "Puis, la fonction calculate_total_value calcule la **valeur totale des biscuits placés** (ce qu'on cherche à optimiser)."
   ]
  },
  {
   "cell_type": "code",
   "execution_count": 66,
   "metadata": {},
   "outputs": [
    {
     "name": "stdout",
     "output_type": "stream",
     "text": [
      "[{'biscuit_': 0, 'position': 496}, {'biscuit_': 1, 'position': 488}, {'biscuit_': 2, 'position': 497}, {'biscuit_': 3, 'position': 491}]\n",
      "La valeur totale des biscuits placés est : 27\n"
     ]
    }
   ],
   "source": [
    "def find_valid_positions(biscuits_info, roll_length, defects_data):\n",
    "    \n",
    "    valid_positions = []\n",
    "    for i, biscuit in enumerate(biscuits_info):\n",
    "        # Recherche de la meilleure position pour chaque biscuit\n",
    "        best_positions = []\n",
    "        best_value = 0\n",
    "        \n",
    "        for position in range(roll_length - biscuit['length'] + 1):\n",
    "            # Vérification de chevauchement\n",
    "            overlap = False\n",
    "            for placed_biscuit in valid_positions:\n",
    "                if position <= placed_biscuit['position'] < position + biscuit['length']:\n",
    "                    overlap = True\n",
    "                    break\n",
    "            \n",
    "            if not overlap:\n",
    "                # Vérification des défauts dans l'intervalle du biscuit\n",
    "                defects_in_interval = defects_data[(defects_data['x'] >= position) &\n",
    "                                                  (defects_data['x'] < position + biscuit['length'])]\n",
    "                \n",
    "                # Vérification des défauts par classe pour le biscuit actuel\n",
    "                valid_biscuit = True\n",
    "                for class_name, threshold in biscuit['defauts'].items():\n",
    "                    class_defects = defects_in_interval[defects_in_interval['class'] == class_name]\n",
    "                    if class_defects.shape[0] > threshold:\n",
    "                        valid_biscuit = False\n",
    "                        break\n",
    "                \n",
    "                if valid_biscuit:\n",
    "                    total_value = biscuit['value']\n",
    "                    if best_positions:\n",
    "                        total_value += best_value\n",
    "                    if total_value > best_value:\n",
    "                        best_value = total_value\n",
    "                        best_positions = [position]\n",
    "                    elif total_value == best_value:\n",
    "                        best_positions.append(position)\n",
    "    \n",
    "        if best_positions:\n",
    "            for pos in best_positions:\n",
    "                valid_positions.append({'biscuit_': i, 'position': pos})\n",
    "    \n",
    "    return valid_positions\n",
    "\n",
    "def calculate_total_value(valid_positions, biscuits_info):\n",
    "    total_value = 0\n",
    "    \n",
    "    for pos in valid_positions:\n",
    "        biscuit_id = pos['biscuit_']\n",
    "        total_value += biscuits_info[biscuit_id]['value']\n",
    "    \n",
    "    return total_value\n",
    "\n",
    "# Utilisation de la fonction pour trouver les positions valides pour placer les biscuits\n",
    "valid_positions = find_valid_positions(biscuits_info, roll_length, defects_data)\n",
    "print(valid_positions)\n",
    "\n",
    "# Utilisation de la fonction pour calculer la valeur totale des biscuits placés\n",
    "total_biscuit_value = calculate_total_value(valid_positions, biscuits_info)\n",
    "print(f\"La valeur totale des biscuits placés est : {total_biscuit_value}\")\n",
    "\n"
   ]
  },
  {
   "cell_type": "code",
   "execution_count": null,
   "metadata": {},
   "outputs": [],
   "source": [
    "def place_biscuits(biscuits_info, roll_length, defects_data):\n",
    "    placed_positions = []\n",
    "    while True:\n",
    "        new_positions = find_valid_positions(biscuits_info, roll_length, defects_data)\n",
    "        if not new_positions:\n",
    "            break\n",
    "        placed_positions.extend(new_positions)\n",
    "    return placed_positions\n",
    "\n",
    "# Utilisation de la fonction pour placer les biscuits sur le rouleau\n",
    "placed_biscuits = place_biscuits(biscuits_info, roll_length, defects_data)\n",
    "print(placed_biscuits)\n"
   ]
  },
  {
   "cell_type": "markdown",
   "metadata": {},
   "source": [
    "**CSP (Constraint Satisfaction Problem)**\n",
    "\n",
    "Le CSP  est un bon moyen de modéliser ce problème pour trouver **les meilleures positions** pour placer les biscuits tout en **respectant les contraintes**. Pour cela, nous allons utiliser la **bibliothèque python-constraint**, qui permet de définir des variables, des domaines et des contraintes pour résoudre ce genre de problèmes."
   ]
  },
  {
   "cell_type": "code",
   "execution_count": 68,
   "metadata": {},
   "outputs": [],
   "source": [
    "from constraint import Problem\n",
    "\n",
    "def intervals_overlap(start1, end1, start2, end2):# on vérifie si 2 intervalles se chevauchent\n",
    "    return not (end1 <= start2 or start1 >= end2)\n",
    "\n",
    "#fonction pour vérifier si un biscuit peut être placé sans chevauchement et dépassement du seuil de défauts\n",
    "def can_place_biscuit(position, length, defects_data, biscuit_defauts):\n",
    "    #vérifie les defauts dans l'intervalles où le biscuit peut être placé [position, position + length]\n",
    "    defects_in_interval = defects_data[(defects_data['x'] >= position) &\n",
    "                                      (defects_data['x'] < position + length)]\n",
    "\n",
    "    for class_name, nombre_de_defauts_max in biscuit_defauts.items():\n",
    "        class_defects = defects_in_interval[defects_in_interval['class'] == class_name]\n",
    "        if class_defects.shape[0] > nombre_de_defauts_max:\n",
    "            return False\n",
    "    \n",
    "    return True\n",
    "\n",
    "def solve_biscuit_placement(biscuits_info, roll_length, defects_data):\n",
    "    problem = Problem()\n",
    "\n",
    "    for i, biscuit in enumerate(biscuits_info):\n",
    "        problem.addVariable(f\"biscuit_{i}_position\", range(roll_length - biscuit['length'] + 1))\n",
    "\n",
    "    for i, biscuit in enumerate(biscuits_info):\n",
    "        biscuit_length = biscuit['length']\n",
    "        biscuit_defaut = biscuit['defauts']\n",
    "        for j, other_biscuit in enumerate(biscuits_info):\n",
    "            if i != j:\n",
    "                other_biscuit_length = other_biscuit['length']\n",
    "                problem.addConstraint(\n",
    "                    lambda pos1, pos2, len1=biscuit_length, len2=other_biscuit_length:\n",
    "                    not intervals_overlap(pos1, pos1 + len1, pos2, pos2 + len2),\n",
    "                    (f\"biscuit_{i}_position\", f\"biscuit_{j}_position\")\n",
    "                )\n",
    "\n",
    "        problem.addConstraint(\n",
    "            lambda pos, length=biscuit_length, thresholds=biscuit_defaut:\n",
    "            can_place_biscuit(pos, length, defects_data, thresholds),\n",
    "            (f\"biscuit_{i}_position\",)\n",
    "        )\n",
    "\n",
    "    solutions = problem.getSolutions()\n",
    "    return solutions\n",
    "\n",
    "# utilisation de la fonction pour résoudre le problème de placement des biscuits\n",
    "solutions = solve_biscuit_placement(biscuits_info, roll_length, defects_data)\n",
    "print(solutions)\n"
   ]
  },
  {
   "cell_type": "code",
   "execution_count": null,
   "metadata": {},
   "outputs": [],
   "source": []
  },
  {
   "cell_type": "code",
   "execution_count": null,
   "metadata": {},
   "outputs": [],
   "source": []
  },
  {
   "cell_type": "code",
   "execution_count": null,
   "metadata": {},
   "outputs": [],
   "source": []
  },
  {
   "cell_type": "code",
   "execution_count": null,
   "metadata": {},
   "outputs": [],
   "source": []
  },
  {
   "cell_type": "code",
   "execution_count": null,
   "metadata": {},
   "outputs": [],
   "source": []
  },
  {
   "cell_type": "code",
   "execution_count": null,
   "metadata": {},
   "outputs": [],
   "source": []
  }
 ],
 "metadata": {
  "kernelspec": {
   "display_name": "Python 3",
   "language": "python",
   "name": "python3"
  },
  "language_info": {
   "codemirror_mode": {
    "name": "ipython",
    "version": 3
   },
   "file_extension": ".py",
   "mimetype": "text/x-python",
   "name": "python",
   "nbconvert_exporter": "python",
   "pygments_lexer": "ipython3",
   "version": "3.12.1"
  }
 },
 "nbformat": 4,
 "nbformat_minor": 2
}
